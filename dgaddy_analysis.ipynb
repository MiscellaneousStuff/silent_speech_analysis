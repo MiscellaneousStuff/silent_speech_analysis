{
 "cells": [
  {
   "cell_type": "markdown",
   "id": "d7a02c22",
   "metadata": {},
   "source": [
    "# Setup Environment"
   ]
  },
  {
   "cell_type": "markdown",
   "id": "114fd488",
   "metadata": {},
   "source": [
    "## Setup Miniconda"
   ]
  },
  {
   "cell_type": "code",
   "execution_count": null,
   "id": "b28ff60b",
   "metadata": {},
   "outputs": [],
   "source": [
    "%%bash\n",
    "\n",
    "MINICONDA_INSTALLER_SCRIPT=Miniconda3-4.5.4-Linux-x86_64.sh\n",
    "MINICONDA_PREFIX=/usr/local\n",
    "wget https://repo.continuum.io/miniconda/$MINICONDA_INSTALLER_SCRIPT\n",
    "chmod +x $MINICONDA_INSTALLER_SCRIPT\n",
    "./$MINICONDA_INSTALLER_SCRIPT -b -f -p $MINICONDA_PREFIX"
   ]
  },
  {
   "cell_type": "markdown",
   "id": "5b760dc0",
   "metadata": {},
   "source": [
    "## Check Install Directories"
   ]
  },
  {
   "cell_type": "code",
   "execution_count": null,
   "id": "a0ab2bfe",
   "metadata": {},
   "outputs": [],
   "source": [
    "!which conda # should return /usr/local/bin/conda"
   ]
  },
  {
   "cell_type": "code",
   "execution_count": null,
   "id": "25b5173d",
   "metadata": {},
   "outputs": [],
   "source": [
    "!conda --version # should return 4.5.4"
   ]
  },
  {
   "cell_type": "code",
   "execution_count": null,
   "id": "e0e87f94",
   "metadata": {},
   "outputs": [],
   "source": [
    "!which python # still returns /usr/local/bin/python"
   ]
  },
  {
   "cell_type": "code",
   "execution_count": null,
   "id": "5261818b",
   "metadata": {},
   "outputs": [],
   "source": [
    "!python --version # now returns Python 3.6.5 :: Anaconda, Inc."
   ]
  },
  {
   "cell_type": "markdown",
   "id": "a2641466",
   "metadata": {},
   "source": [
    "## Setup Environment using Miniconda"
   ]
  },
  {
   "cell_type": "code",
   "execution_count": null,
   "id": "cd12cdea",
   "metadata": {},
   "outputs": [],
   "source": [
    "%%bash\n",
    "conda install --channel defaults conda python=3.6 --yes\n",
    "conda update --channel defaults --all --yes"
   ]
  },
  {
   "cell_type": "code",
   "execution_count": null,
   "id": "4dacb8c9",
   "metadata": {},
   "outputs": [],
   "source": [
    "!conda --version # now returns 4.8.3"
   ]
  },
  {
   "cell_type": "code",
   "execution_count": null,
   "id": "76fd2abd",
   "metadata": {},
   "outputs": [],
   "source": [
    "!python --version # now returns Python 3.6.10 :: Anaconda, Inc."
   ]
  },
  {
   "cell_type": "code",
   "execution_count": null,
   "id": "4e00a4ed",
   "metadata": {},
   "outputs": [],
   "source": [
    "import sys\n",
    "sys.path"
   ]
  },
  {
   "cell_type": "code",
   "execution_count": null,
   "id": "9c22e454",
   "metadata": {},
   "outputs": [],
   "source": [
    "import sys\n",
    "_ = (sys.path\n",
    "        .append(\"/usr/local/lib/python3.6/site-packages\"))"
   ]
  },
  {
   "cell_type": "markdown",
   "id": "08e42cdf",
   "metadata": {},
   "source": [
    "## Install Conda Packages"
   ]
  },
  {
   "cell_type": "code",
   "execution_count": null,
   "id": "a1e67d77",
   "metadata": {},
   "outputs": [],
   "source": [
    "!conda install --channel conda-forge featuretools --yes"
   ]
  },
  {
   "cell_type": "code",
   "execution_count": null,
   "id": "9f6296dc",
   "metadata": {},
   "outputs": [],
   "source": [
    "!conda install cudatoolkit=10.1 -y\n",
    "!conda install pytorch -c pytorch -y\n",
    "!conda install libsndfile=1.0.28 -c conda-forge -y\n",
    "!conda install ipykernel -y"
   ]
  },
  {
   "cell_type": "code",
   "execution_count": null,
   "id": "3ca1f383",
   "metadata": {},
   "outputs": [],
   "source": [
    "!pip3 install absl-py librosa soundfile matplotlib scipy scikit-learn numba jiwer unidecode deepspeech==0.8.2"
   ]
  },
  {
   "cell_type": "markdown",
   "id": "00c3dcc9",
   "metadata": {},
   "source": [
    "# Download and Check Dataset"
   ]
  },
  {
   "cell_type": "markdown",
   "id": "9be4bbd4",
   "metadata": {},
   "source": [
    "## Download Dataset"
   ]
  },
  {
   "cell_type": "code",
   "execution_count": null,
   "id": "cb232022",
   "metadata": {},
   "outputs": [],
   "source": [
    "gdrive = True\n",
    "if gdrive:\n",
    "    # Download from Google Drive, much faster than from source\n",
    "    # NOTE: Still getting this too work...\n",
    "    !EEG_DATA_ID=\"1GT_hZTCx0ihdjcPvQFgYltmNZU5iIxvj\" && \\\n",
    "    wget --no-check-certificate --load-cookies /tmp/cookies.txt \"https://docs.google.com/uc?export=download&confirm=$(wget --quiet --save-cookies /tmp/cookies.txt --keep-session-cookies --no-check-certificate \"https://docs.google.com/uc?export=download&id=${EEG_DATA_ID}\" -O- | sed -rn 's/.*confirm=([0-9A-Za-z_]+).*/\\1\\n/p')&id=${EEG_DATA_ID}\" -O emg_data.tar.gz && rm -rf /tmp/cookies.txt\n",
    "else:\n",
    "    # Download from source, slower but should be 100% reliable\n",
    "    !wget -O emg_data.tar.gz https://zenodo.org/record/4064409/files/emg_data.tar.gz?download=1"
   ]
  },
  {
   "cell_type": "markdown",
   "id": "5b3db6c5",
   "metadata": {},
   "source": [
    "## Phoneme Dataset"
   ]
  },
  {
   "cell_type": "code",
   "execution_count": null,
   "id": "6f7914f4",
   "metadata": {},
   "outputs": [],
   "source": [
    "!wget -O text_alignments.tar.gz https://github.com/dgaddy/silent_speech_alignments/raw/main/text_alignments.tar.gz\n",
    "!tar -xvf text_alignments.tar.gz"
   ]
  },
  {
   "cell_type": "markdown",
   "id": "365d6aef",
   "metadata": {},
   "source": [
    "## Check EEG Dataset Size (Should be ~6.3GB)"
   ]
  },
  {
   "cell_type": "code",
   "execution_count": null,
   "id": "03a4a358",
   "metadata": {},
   "outputs": [],
   "source": [
    "!du -sh emg_data"
   ]
  },
  {
   "cell_type": "markdown",
   "id": "125554dc",
   "metadata": {},
   "source": [
    "# Clone GDaddy/silent_speech Repository"
   ]
  },
  {
   "cell_type": "code",
   "execution_count": null,
   "id": "dcf24a2b",
   "metadata": {},
   "outputs": [],
   "source": [
    "!git clone https://github.com/dgaddy/silent_speech/"
   ]
  },
  {
   "cell_type": "markdown",
   "id": "a48a140d-0427-4ab7-9fe2-0f59b0d14692",
   "metadata": {},
   "source": [
    "# Closed Vocab Dataset\n",
    "This dataset is split into two modes:\n",
    "1. Voiced speech\n",
    "2. Silent speech"
   ]
  },
  {
   "cell_type": "code",
   "execution_count": 5,
   "id": "1e206f76-6b6d-49ac-b326-886db59f8b55",
   "metadata": {},
   "outputs": [
    {
     "name": "stdout",
     "output_type": "stream",
     "text": [
      "Requirement already satisfied: praat-textgrids in /usr/local/lib/python3.6/site-packages (1.3.1)\n",
      "\u001b[33mWARNING: Running pip as the 'root' user can result in broken permissions and conflicting behaviour with the system package manager. It is recommended to use a virtual environment instead: https://pip.pypa.io/warnings/venv\u001b[0m\n",
      "/mnt/c/Users/win8t/OneDrive/Desktop/projects/silent_speech_analysis\n"
     ]
    }
   ],
   "source": [
    "# Required\n",
    "!pip install praat-textgrids\n",
    "\n",
    "# Use this to change dir (If not already in silent_speech repo dir)\n",
    "!pwd\n",
    "switch = False\n",
    "if switch:\n",
    "    %cd silent_speech"
   ]
  },
  {
   "cell_type": "markdown",
   "id": "398a78cd-b0c6-427c-8d40-ec49d3a3c716",
   "metadata": {},
   "source": [
    "## Analyse Entire Dataset Statistics"
   ]
  },
  {
   "cell_type": "markdown",
   "id": "14defc20-6c19-481f-a026-d9dc8f912024",
   "metadata": {},
   "source": [
    "### Dataset Statistics\n",
    "According to the [Digital Voicing of Silent Speech](https://arxiv.org/pdf/2010.02960.pdf)\n",
    "paper, the closed vocabulary dataset should have the following chracteristics:\n",
    "- Parallel silent / vocalised Speech (Es, Ev, Av)\n",
    "  - 26 minutes silent / 30 minutes vocalised\n",
    "  - Single session (data was only recorded once)\n",
    "  - 500 utterances (500 different recordings)\n",
    "  - Average of 4 words per utterance\n",
    "  - 67 words in vocabulary (67 unique words were uttered in the entire dataset)\n",
    "  \n",
    "From the cells below, we can see the dataset matches the reported\n",
    "statistics within the paper, aside from the vocabulary.\n",
    "\n",
    "However, this is most likely due to how the vocabulary words\n",
    "are calculated by the authors. Hopefully this is easy to resolve."
   ]
  },
  {
   "cell_type": "markdown",
   "id": "15aad1f6-fe50-43d2-811e-e545a870c274",
   "metadata": {},
   "source": [
    "#### Extract Dataset Information"
   ]
  },
  {
   "cell_type": "code",
   "execution_count": 32,
   "id": "3733688e-7b10-47e8-8cb0-b175cb6a073c",
   "metadata": {},
   "outputs": [
    {
     "name": "stdout",
     "output_type": "stream",
     "text": [
      "/mnt/c/Users/win8t/OneDrive/Desktop/projects/silent_speech_analysis\n"
     ]
    }
   ],
   "source": [
    "#%cd silent_speech_analysis\n",
    "!pwd\n",
    "\n",
    "import os, json, glob\n",
    "\n",
    "# Silent and voiced directories\n",
    "emg_data_dir = \"emg_data/\"\n",
    "silent_dir = os.path.join(os.getcwd(), \"silent_speech/\", emg_data_dir, \"closed_vocab/silent/5-19_silent\")\n",
    "voiced_dir = os.path.join(os.getcwd(), \"silent_speech/\", emg_data_dir, \"closed_vocab/voiced/5-19\")\n",
    "\n",
    "# Calc unique words within a data directory\n",
    "def vocab_info(data_dir):\n",
    "    path = data_dir\n",
    "    jsons = list(filter(lambda x: x.endswith(\".json\"), os.listdir(path)))\n",
    "    infos = []\n",
    "    for fname in jsons:\n",
    "        cur_fname = os.path.join(data_dir, fname)\n",
    "        with open(cur_fname) as f:\n",
    "            info = json.loads(f.read())\n",
    "            infos.append(info)\n",
    "    return infos\n",
    "\n",
    "# Get silent mode vocab\n",
    "silent_info = vocab_info(silent_dir)\n",
    "voiced_info = vocab_info(voiced_dir)"
   ]
  },
  {
   "cell_type": "markdown",
   "id": "a302bd3d-251e-431e-bd8e-dea74f65b1a4",
   "metadata": {},
   "source": [
    "#### Calculate Vocabulary Size"
   ]
  },
  {
   "cell_type": "code",
   "execution_count": null,
   "id": "c8a6e934-6de5-47aa-965d-2ad51f585187",
   "metadata": {},
   "outputs": [],
   "source": [
    "import re\n",
    "\n",
    "reduce_year_vocab_size = False\n",
    "\n",
    "#silent_vocab = set()\n",
    "silent_vocab = list()\n",
    "for info in silent_info:\n",
    "    words = re.split(\":| \", info[\"text\"])\n",
    "    for w in words:\n",
    "        if len(w) == 4 and w.isnumeric() and reduce_year_vocab_size:\n",
    "            w1 = w[0:2]\n",
    "            w2 = w[2:4]\n",
    "            silent_vocab.append(w1)\n",
    "            silent_vocab.append(w2)\n",
    "            #silent_vocab.add(w1)\n",
    "            #silent_vocab.add(w2)\n",
    "        else:\n",
    "            # silent_vocab.add(w)\n",
    "            silent_vocab.append(w)\n",
    "silent_vocab.remove(\"\")\n",
    "\n",
    "voiced_vocab = set()\n",
    "for info in voiced_info:\n",
    "    words = re.split(\":| \", info[\"text\"])\n",
    "    for w in words:\n",
    "        if len(w) == 4 and w.isnumeric() and reduce_year_vocab_size:\n",
    "            w1 = w[0:2]\n",
    "            w2 = w[2:4]\n",
    "            voiced_vocab.add(w1)\n",
    "            voiced_vocab.add(w2)\n",
    "        else:\n",
    "            voiced_vocab.add(w)\n",
    "voiced_vocab.remove(\"\")\n",
    "\n",
    "print('Silent Vocab Size, Voiced Vocab Size:', len(silent_vocab), len(voiced_vocab))\n",
    "\n",
    "silent_vocab"
   ]
  },
  {
   "cell_type": "markdown",
   "id": "fed38e41-90b1-403e-9eba-51aea9a3c7d6",
   "metadata": {},
   "source": [
    "I'm not sure how the authors calculated the 67 words in their vocab, as there are actually 113 unique words within the dataset. The way they calculate their vocabulary must be different to how I have. The method I have used is to sum 12 hour suffixes (AM/PM) with 1 digit number occurances, two digit number occurances, 7 days a week and 12 months a year.\n",
    "\n",
    "The authors must be reducing the vocabulary down by grouping some of the numbers which are uttered, further investigation here is required."
   ]
  },
  {
   "cell_type": "markdown",
   "id": "0cbdc742-56fc-45c0-8e51-4d845578a3d4",
   "metadata": {},
   "source": [
    "#### Utterance Calculations"
   ]
  },
  {
   "cell_type": "code",
   "execution_count": 34,
   "id": "85ce9ae2-5eea-4d3e-816c-7b66ce12d970",
   "metadata": {},
   "outputs": [
    {
     "name": "stdout",
     "output_type": "stream",
     "text": [
      "Silent utter avg: {3, 4} [3, 4, 3, 3, 4, 3, 3, 3, 4, 3, 3, 4, 4, 4, 4, 4, 4, 4, 3, 4, 4, 4, 3, 4, 3, 4, 3, 3, 3, 3, 3, 3, 3, 4, 3, 3, 4, 3, 4, 4, 3, 3, 4, 3, 4, 3, 3, 3, 3, 3, 3, 3, 3, 3, 3, 3, 3, 4, 3, 3, 3, 3, 3, 3, 3, 4, 4, 3, 4, 3, 3, 3, 3, 4, 3, 3, 4, 4, 3, 3, 3, 3, 4, 3, 4, 3, 3, 3, 3, 4, 3, 3, 4, 3, 3, 3, 4, 4, 3, 3, 3, 3, 3, 3, 3, 4, 4, 3, 3, 4, 3, 3, 3, 4, 3, 3, 4, 3, 3, 4, 4, 4, 4, 3, 3, 3, 3, 3, 3, 3, 3, 4, 3, 3, 3, 3, 3, 4, 3, 4, 3, 3, 4, 3, 4, 3, 3, 4, 4, 3, 4, 3, 4, 4, 3, 3, 4, 3, 3, 4, 3, 4, 3, 3, 3, 3, 3, 3, 3, 3, 3, 3, 3, 3, 4, 3, 3, 4, 4, 3, 4, 3, 4, 4, 3, 4, 3, 3, 4, 3, 3, 3, 4, 4, 3, 3, 3, 3, 4, 3, 4, 4, 3, 3, 3, 3, 3, 4, 3, 3, 3, 4, 3, 4, 3, 4, 3, 3, 3, 4, 3, 3, 4, 3, 3, 3, 3, 3, 4, 3, 4, 4, 3, 4, 3, 3, 3, 3, 3, 3, 3, 3, 4, 3, 3, 4, 4, 3, 3, 4, 3, 3, 3, 3, 3, 3, 3, 4, 3, 4, 4, 3, 3, 4, 3, 4, 3, 3, 3, 3, 3, 3, 4, 4, 3, 3, 3, 4, 3, 3, 3, 3, 3, 4, 4, 4, 3, 4, 4, 3, 3, 3, 3, 3, 4, 3, 4, 3, 3, 3, 4, 3, 3, 4, 4, 4, 3, 3, 3, 3, 3, 4, 3, 3, 3, 3, 3, 3, 3, 4, 4, 3, 3, 3, 4, 3, 4, 4, 3, 3, 3, 4, 4, 4, 3, 4, 3, 3, 3, 4, 3, 4, 4, 3, 3, 4, 3, 3, 3, 3, 3, 4, 3, 3, 4, 3, 3, 4, 4, 3, 3, 4, 4, 3, 3, 3, 3, 4, 3, 3, 4, 3, 4, 3, 3, 3, 3, 3, 4, 3, 4, 4, 3, 3, 3, 3, 4, 4, 3, 3, 4, 3, 3, 3, 3, 4, 3, 4, 4, 4, 3, 3, 4, 4, 3, 3, 4, 3, 4, 3, 3, 3, 3, 3, 4, 4, 3, 4, 3, 3, 3, 3, 4, 3, 3, 3, 3, 3, 3, 3, 4, 3, 4, 3, 3, 4, 4, 4, 4, 4, 3, 4, 4, 4, 4, 3, 4, 3, 4, 3, 3, 3, 3, 3, 3, 3, 3, 3, 4, 4, 3, 3, 4, 4, 4, 3, 3, 3, 3, 3, 3, 4, 3, 4, 3, 3, 3, 4, 3, 4, 4, 4, 3, 3, 3, 3, 3, 3, 4, 4, 4, 4, 3, 3, 3, 3, 3, 4, 4, 3] 1673 500 3.346\n",
      "Voiced utter avg: {3, 4} [3, 3, 4, 4, 4, 4, 3, 4, 4, 3, 4, 4, 4, 3, 4, 3, 4, 3, 3, 3, 3, 3, 3, 3, 3, 3, 3, 3, 4, 4, 3, 3, 4, 3, 4, 3, 3, 3, 3, 3, 3, 3, 3, 3, 3, 3, 3, 3, 3, 4, 3, 3, 3, 4, 3, 3, 3, 4, 4, 3, 4, 3, 3, 3, 3, 4, 3, 3, 4, 4, 3, 3, 3, 3, 3, 4, 3, 4, 3, 3, 3, 3, 4, 3, 3, 4, 3, 3, 4, 4, 3, 3, 3, 3, 3, 3, 3, 4, 4, 3, 3, 3, 4, 3, 3, 4, 3, 3, 3, 4, 3, 3, 4, 4, 4, 3, 3, 3, 3, 3, 3, 3, 3, 4, 3, 3, 3, 3, 3, 4, 3, 4, 3, 4, 3, 4, 3, 3, 4, 4, 4, 3, 4, 4, 3, 3, 3, 4, 3, 3, 4, 4, 3, 4, 3, 3, 3, 3, 3, 3, 3, 3, 3, 3, 4, 3, 4, 4, 3, 4, 3, 4, 3, 4, 3, 3, 4, 3, 3, 4, 3, 3, 4, 4, 3, 3, 3, 3, 4, 3, 3, 4, 4, 3, 3, 3, 3, 4, 3, 3, 3, 3, 4, 3, 4, 3, 4, 3, 3, 4, 4, 3, 3, 4, 3, 3, 3, 3, 4, 3, 4, 4, 4, 3, 3, 3, 3, 3, 3, 3, 3, 3, 3, 3, 4, 4, 3, 3, 4, 3, 3, 3, 3, 3, 3, 3, 4, 3, 4, 4, 3, 4, 4, 3, 4, 3, 3, 3, 3, 3, 3, 3, 4, 3, 3, 3, 4, 3, 3, 3, 3, 4, 3, 4, 4, 3, 4, 4, 3, 3, 3, 3, 4, 3, 3, 3, 4, 3, 3, 4, 3, 3, 4, 3, 4, 4, 3, 3, 3, 3, 4, 3, 3, 3, 3, 3, 3, 3, 4, 4, 3, 4, 3, 3, 3, 4, 4, 3, 3, 3, 4, 4, 3, 4, 3, 3, 4, 3, 4, 4, 3, 4, 3, 3, 3, 3, 3, 4, 4, 3, 4, 3, 3, 4, 4, 3, 4, 3, 4, 3, 3, 3, 4, 3, 3, 4, 3, 4, 3, 3, 3, 3, 3, 4, 3, 4, 3, 3, 3, 3, 3, 4, 4, 3, 3, 4, 3, 3, 4, 3, 4, 3, 4, 4, 3, 3, 4, 4, 3, 3, 4, 3, 4, 3, 3, 3, 3, 3, 3, 4, 4, 3, 3, 3, 3, 3, 3, 4, 3, 3, 3, 3, 3, 3, 3, 3, 4, 3, 4, 3, 4, 3, 4, 4, 4, 4, 4, 3, 3, 4, 4, 4, 4, 3, 4, 4, 3, 4, 3, 3, 3, 3, 3, 3, 3, 4, 3, 3, 4, 3, 3, 4, 4, 4, 4, 3, 3, 3, 3, 3, 4, 3, 4, 3, 3, 3, 3, 4, 3, 3, 4, 4, 4, 3, 3, 3, 3, 3, 3, 4, 4, 4, 3, 3, 3, 3, 3, 4, 4, 3, 4, 4, 3, 3, 4, 3, 3, 3, 4, 4] 1673 500 3.346\n",
      "Silent, Voiced utterance counts: 483 483\n",
      "Index counts (silent, voiced): 501 501\n",
      "Raw (silent, voiced) utterance counts: 500 500\n",
      "Avg words/utterance (silent, voiced) counts: 3.346 3.346\n"
     ]
    }
   ],
   "source": [
    "raw_silent_utters = [info[\"text\"] for info in silent_info]\n",
    "raw_silent_utters = list(filter(lambda x: x != \"\", raw_silent_utters))\n",
    "\n",
    "raw_voiced_utters = [info[\"text\"] for info in voiced_info]\n",
    "raw_voiced_utters = list(filter(lambda x: x != \"\", raw_voiced_utters))\n",
    "\n",
    "silent_utterances = set(raw_silent_utters)\n",
    "voiced_utterances = set(raw_voiced_utters)\n",
    "\n",
    "silent_utterance_indices = set([info[\"sentence_index\"] for info in silent_info])\n",
    "voiced_utterance_indices = set([info[\"sentence_index\"] for info in voiced_info])\n",
    "\n",
    "def get_utter_word_count(utterance):\n",
    "    words = re.split(\":| \", utterance)\n",
    "    cnt = 0\n",
    "    for w in words:\n",
    "        if len(w) == 4 and w.isnumeric():\n",
    "            cnt += 2\n",
    "        else:\n",
    "            cnt += 1\n",
    "    return cnt\n",
    "\n",
    "avg_silent_utter_words = [get_utter_word_count(u) for u in raw_silent_utters]\n",
    "print('Silent utter avg:', set(avg_silent_utter_words), avg_silent_utter_words, sum(avg_silent_utter_words), len(avg_silent_utter_words), sum(avg_silent_utter_words) / len(avg_silent_utter_words))\n",
    "avg_silent_utter_words = sum(avg_silent_utter_words) / len(avg_silent_utter_words)\n",
    "\n",
    "avg_voiced_utter_words = [get_utter_word_count(u) for u in raw_voiced_utters]\n",
    "print('Voiced utter avg:', set(avg_voiced_utter_words), avg_voiced_utter_words, sum(avg_voiced_utter_words), len(avg_voiced_utter_words), sum(avg_voiced_utter_words) / len(avg_voiced_utter_words))\n",
    "avg_voiced_utter_words = sum(avg_voiced_utter_words) / len(avg_voiced_utter_words)\n",
    "\n",
    "print('Silent, Voiced utterance counts:', len(silent_utterances), len(voiced_utterances))\n",
    "print('Index counts (silent, voiced):', len(silent_utterance_indices), len(voiced_utterance_indices))\n",
    "print('Raw (silent, voiced) utterance counts:', len(raw_silent_utters), len(raw_voiced_utters))\n",
    "print('Avg words/utterance (silent, voiced) counts:', avg_silent_utter_words, avg_voiced_utter_words)"
   ]
  },
  {
   "cell_type": "markdown",
   "id": "9c3f35e8-b3f9-4046-84a3-5f9768a1c120",
   "metadata": {},
   "source": [
    "The sentence index (in other words, the indices into the utterances) matches what is reported exactly.\n",
    "The [Digital Voicing of Silent Speech](https://arxiv.org/pdf/2010.02960.pdf) paper reports\n",
    "500 utterances, and their are 500 sentences (i.e. utterances) plus an additional recording which\n",
    "contains no speech.\n",
    "Presumably this is an initial recording to ensure the recording environment (OpenBCI\n",
    "EEG recording hardware and software) were working correctly."
   ]
  },
  {
   "cell_type": "markdown",
   "id": "3fba2fa9-dc60-4ee0-8d52-55175078cec6",
   "metadata": {},
   "source": [
    "#### Audio Calculations"
   ]
  },
  {
   "cell_type": "code",
   "execution_count": 35,
   "id": "1b7028a8-005f-4b82-9583-9ca5ee0649c4",
   "metadata": {},
   "outputs": [
    {
     "name": "stdout",
     "output_type": "stream",
     "text": [
      "Audio (Silent, Voiced) duration (mins): 26.46, 29.53\n"
     ]
    }
   ],
   "source": [
    "import os\n",
    "\n",
    "\"\"\"\n",
    "silent_dir\n",
    "voiced_dir\n",
    "\"\"\"\n",
    "\n",
    "import librosa\n",
    "silent_flacs = list(filter(lambda x: x.endswith(\"clean.flac\"), os.listdir(silent_dir)))\n",
    "voiced_flacs = list(filter(lambda x: x.endswith(\"clean.flac\"), os.listdir(voiced_dir)))\n",
    "\n",
    "silent_audio_duration = 0 # Seconds\n",
    "for fname in silent_flacs:\n",
    "    silent_audio_duration += librosa.get_duration(filename=os.path.join(silent_dir, fname))\n",
    "    \n",
    "voiced_audio_duration = 0 # Seconds\n",
    "for fname in voiced_flacs:\n",
    "    voiced_audio_duration += librosa.get_duration(filename=os.path.join(voiced_dir, fname))\n",
    "    \n",
    "silent_mins = silent_audio_duration / 60.0\n",
    "audio_mins = voiced_audio_duration / 60.0\n",
    "\n",
    "print(f'Audio (Silent, Voiced) duration (mins): {silent_mins:.2f}, {audio_mins:.2f}')"
   ]
  },
  {
   "cell_type": "markdown",
   "id": "650eb872-a856-407b-8be8-1ca7207956c6",
   "metadata": {},
   "source": [
    "The silent and voiced audio durations match the Digital Voicing paper, with 26 mins and 30 mins roughly, reported for the silent and voiced modes respectively."
   ]
  },
  {
   "cell_type": "markdown",
   "id": "9c068edf-1399-4048-ae66-9204209ab4ff",
   "metadata": {
    "tags": []
   },
   "source": [
    "## Parallel Ev, Av Data Analysis\n",
    "\n",
    "In the EMG dataset, Ev refers to EMG data recorded during the vocalised mode and audio data recorded during the vocalised mode respectively. The data is recorded in parallel, so the emg and audio data are time-aligned.\n",
    "\n",
    "For context, the electrode placements for this dataset are as follows:\n",
    "\n",
    "| No   | Location                            |\n",
    "| ---- | ----------------------------------- |\n",
    "| 1    | left cheek just above mouth         |\n",
    "| 2    | left corner of chin                 |\n",
    "| 3    | below chin below 3cm                |\n",
    "| 4    | throat 3cm left from Adam's apple   |\n",
    "| 5    | mid-jaw right                       |\n",
    "| 6    | right cheek just below mouth        |\n",
    "| 7    | right cheek 2cm from nose          |\n",
    "| 8    | back of right cheek                 |\n",
    "| ref  | below left ear                      |\n",
    "| bias | below right ear                     |\n",
    "\n",
    "<center>\n",
    "<img src=\"./assets/digital_voicing/digital_voicing_electrode_placements.png\"\n",
    "     alt=\"digital voicing electrode placements\" />\n",
    "</center>\n",
    "\n",
    "Order of electrodes does not imply importance, these were just the numberings\n",
    "of the electrodes within the data."
   ]
  },
  {
   "cell_type": "code",
   "execution_count": 115,
   "id": "d0527489-d595-434b-afeb-8afdcfe1f80d",
   "metadata": {},
   "outputs": [],
   "source": [
    "# Smallest audio file in the closed vocab dataset\n",
    "# 573 = \"Sunday March 10th\" (Shortest recording)\n",
    "# 15 = \"February 17th 1987\" (Longest recording without much noise)\n",
    "import os\n",
    "recording_idx = 15\n",
    "ev_path = os.path.join(voiced_dir,\n",
    "                       f'./{recording_idx}_emg.npy')\n",
    "av_path = os.path.join(voiced_dir,\n",
    "                       f'./{recording_idx}_audio_clean.flac')"
   ]
  },
  {
   "cell_type": "markdown",
   "id": "736032b5-7692-4a42-abb6-203548e60e54",
   "metadata": {},
   "source": [
    "### Visualise an Audio Recording"
   ]
  },
  {
   "cell_type": "code",
   "execution_count": 116,
   "id": "661e0775-d424-44f3-98dd-7d08344a5282",
   "metadata": {},
   "outputs": [],
   "source": [
    "# Create array from audio file\n",
    "import numpy as np\n",
    "import pandas as pd\n",
    "import matplotlib.pyplot as plt\n",
    "import librosa as lr\n",
    "\n",
    "audio, sfreq = lr.load(av_path)\n",
    "time = np.arange(0, len(audio)) / sfreq"
   ]
  },
  {
   "cell_type": "code",
   "execution_count": 117,
   "id": "b68af258-ec53-431c-9d65-e3e42553f362",
   "metadata": {},
   "outputs": [
    {
     "data": {
      "image/png": "[encoded data removed]",
      "text/plain": [
       "<Figure size 432x288 with 1 Axes>"
      ]
     },
     "metadata": {
      "needs_background": "light"
     },
     "output_type": "display_data"
    }
   ],
   "source": [
    "fig, ax = plt.subplots()\n",
    "ax.plot(time, audio)\n",
    "ax.set(xlabel='Time (s)', ylabel='Sound Amplitude')\n",
    "plt.show()"
   ]
  },
  {
   "cell_type": "markdown",
   "id": "2e94d4a3-45fc-4a54-9231-247ac0894b4d",
   "metadata": {},
   "source": [
    "### Visualise an EMG Recording"
   ]
  },
  {
   "cell_type": "markdown",
   "id": "5796fa95-d2de-4fcb-ae9b-18b5e392bead",
   "metadata": {
    "tags": []
   },
   "source": [
    "#### Visualisation Methods"
   ]
  },
  {
   "cell_type": "code",
   "execution_count": 123,
   "id": "95bdfcdf-e324-4de2-8354-8f8d65ef11a4",
   "metadata": {
    "tags": []
   },
   "outputs": [],
   "source": [
    "\"\"\"\n",
    "Taken from \"https://github.com/dgaddy/silent_speech\"\n",
    "I've copied functions here as using them directly\n",
    "from the library causes headaches with the FLAGS library\n",
    "\n",
    "Collapse this if you don't care how the functions work.\n",
    "\"\"\"\n",
    "\n",
    "def load_audio(filename, start=None, end=None, max_frames=None, renormalize_volume=False):\n",
    "    audio, r = sf.read(filename)\n",
    "    assert r == 16000\n",
    "\n",
    "    if len(audio.shape) > 1:\n",
    "        audio = audio[:,0] # select first channel of stero audio\n",
    "    if start is not None or end is not None:\n",
    "        audio = audio[start:end]\n",
    "\n",
    "    if renormalize_volume:\n",
    "        audio = normalize_volume(audio)\n",
    "    mel_spectrogram = False\n",
    "    if mel_spectrogram:\n",
    "        mfccs = librosa.feature.melspectrogram(audio, sr=16000, n_mels=128, center=False, n_fft=512, win_length=432, hop_length=160).T\n",
    "        mfccs = np.log(mfccs+1e-5)\n",
    "    else:\n",
    "        mfccs = librosa.feature.mfcc(audio, sr=16000, n_mfcc=26, n_fft=512, win_length=432, hop_length=160, center=False).T\n",
    "    audio_discrete = librosa.core.mu_compress(audio, mu=255, quantize=True)+128\n",
    "    if max_frames is not None and mfccs.shape[0] > max_frames:\n",
    "        mfccs = mfccs[:max_frames,:]\n",
    "    audio_length = 160*mfccs.shape[0]+(432-160)\n",
    "    audio_discrete = audio_discrete[:audio_length] # cut off audio to match framed length\n",
    "    return mfccs.astype(np.float32), audio_discrete\n",
    "\n",
    "def load_utterance(base_dir, index, limit_length=False, debug=False, text_align_directory=None):\n",
    "    index = int(index)\n",
    "    raw_emg = np.load(os.path.join(base_dir, f'{index}_emg.npy'))\n",
    "    before = os.path.join(base_dir, f'{index-1}_emg.npy')\n",
    "    after = os.path.join(base_dir, f'{index+1}_emg.npy')\n",
    "    if os.path.exists(before):\n",
    "        raw_emg_before = np.load(before)\n",
    "    else:\n",
    "        raw_emg_before = np.zeros([0,raw_emg.shape[1]])\n",
    "    if os.path.exists(after):\n",
    "        raw_emg_after = np.load(after)\n",
    "    else:\n",
    "        raw_emg_after = np.zeros([0,raw_emg.shape[1]])\n",
    "\n",
    "    x = np.concatenate([raw_emg_before, raw_emg, raw_emg_after], 0)\n",
    "    x = apply_to_all(notch_harmonics, x, 60, 1000)\n",
    "    x = apply_to_all(remove_drift, x, 1000)\n",
    "    x = x[raw_emg_before.shape[0]:x.shape[0]-raw_emg_after.shape[0],:]\n",
    "    emg_orig = apply_to_all(subsample, x, 800, 1000)\n",
    "    x = apply_to_all(subsample, x, 600, 1000)\n",
    "    emg = x\n",
    "    \n",
    "    remove_channels = []\n",
    "    for c in remove_channels:\n",
    "        emg[:,int(c)] = 0\n",
    "        emg_orig[:,int(c)] = 0\n",
    "\n",
    "    emg_features = get_emg_features(emg, debug=True)\n",
    "\n",
    "    mfccs, audio_discrete = load_audio(os.path.join(base_dir, f'{index}_audio_clean.flac'),\n",
    "            max_frames=min(emg_features.shape[0], 800 if limit_length else float('inf')))\n",
    "\n",
    "    if emg_features.shape[0] > mfccs.shape[0]:\n",
    "        emg_features = emg_features[:mfccs.shape[0],:]\n",
    "    emg = emg[6:6+6*emg_features.shape[0],:]\n",
    "    emg_orig = emg_orig[8:8+8*emg_features.shape[0],:]\n",
    "    assert emg.shape[0] == emg_features.shape[0]*6\n",
    "\n",
    "    with open(os.path.join(base_dir, f'{index}_info.json')) as f:\n",
    "        info = json.load(f)\n",
    "\n",
    "    sess = os.path.basename(base_dir)\n",
    "    tg_fname = f'{text_align_directory}/{sess}/{sess}_{index}_audio.TextGrid'\n",
    "    if os.path.exists(tg_fname):\n",
    "        phonemes = read_phonemes(tg_fname, mfccs.shape[0], phoneme_inventory)\n",
    "    else:\n",
    "        phonemes = np.zeros(mfccs.shape[0], dtype=np.int64)+phoneme_inventory.index('sil')\n",
    "\n",
    "    return mfccs, audio_discrete, emg_features, info['text'], (info['book'],info['sentence_index']), phonemes, emg_orig.astype(np.float32)"
   ]
  },
  {
   "cell_type": "code",
   "execution_count": 119,
   "id": "31e765e1-f1e9-4b52-bfa7-a0a7bb770ad4",
   "metadata": {},
   "outputs": [
    {
     "name": "stdout",
     "output_type": "stream",
     "text": [
      "/mnt/c/Users/win8t/OneDrive/Desktop/projects/silent_speech_analysis/silent_speech\n"
     ]
    }
   ],
   "source": [
    "# Get inside of `silent_speech` repo\n",
    "!pwd\n",
    "switch = False\n",
    "if switch:\n",
    "    %cd silent_speech"
   ]
  },
  {
   "cell_type": "code",
   "execution_count": null,
   "id": "1b1b9c20-8274-4ef8-a274-ffd6b7925cc4",
   "metadata": {},
   "outputs": [],
   "source": [
    "\"\"\"\n",
    "Utterance format:\n",
    "mfccs, audio_discrete, emg_features, text, (book, sentence_index),\n",
    "phonemes, emg_orig\n",
    "\"\"\"\n",
    "utterance = load_utterance(voiced_dir, 573)\n",
    "utterance"
   ]
  },
  {
   "cell_type": "markdown",
   "id": "f0c67e01-c4a0-4339-ad56-769955341bdc",
   "metadata": {},
   "source": [
    "#### Visualise EMG for Vocalised Speech"
   ]
  },
  {
   "cell_type": "code",
   "execution_count": 152,
   "id": "701d96b7-7d13-477d-a4d6-bc0677dd9ff9",
   "metadata": {},
   "outputs": [
    {
     "data": {
      "text/plain": [
       "Text(0.5, 1.0, 'Ev - EMG From Vocalised Speech')"
      ]
     },
     "execution_count": 152,
     "metadata": {},
     "output_type": "execute_result"
    },
    {
     "data": {
      "image/png": "[encoded data removed]",
      "text/plain": [
       "<Figure size 648x360 with 1 Axes>"
      ]
     },
     "metadata": {
      "needs_background": "light"
     },
     "output_type": "display_data"
    }
   ],
   "source": [
    "fig, ax = plt.subplots()\n",
    "fig.set_size_inches(9, 5)\n",
    "\n",
    "emg_channel_labels = \"\"\"left cheek just above mouth\n",
    "left corner of chin\n",
    "below chin below 3cm\n",
    "throat 3cm left from Adam's apple\n",
    "mid-jaw right\n",
    "right cheek just below mouth\n",
    "right cheek 2cm from nose\n",
    "back of right cheek\"\"\".split(\"\\n\")\n",
    "\n",
    "start_idx = 0\n",
    "end_idx = 8\n",
    "\n",
    "raw_emg = utterance[-1]\n",
    "channels = [raw_emg[:, i] for i in range(raw_emg.shape[1])]\n",
    "\n",
    "ignore_channels = [5, 6, 7]\n",
    "for i in range(start_idx, end_idx):\n",
    "    if i not in ignore_channels:\n",
    "        ax.plot(channels[i], label=emg_channel_labels[i])\n",
    "\n",
    "ax.legend()\n",
    "\n",
    "plt.title(\"Ev - EMG From Vocalised Speech\")"
   ]
  },
  {
   "cell_type": "code",
   "execution_count": 144,
   "id": "3dd2ed98-dcd1-4d74-aefd-1a792ff25433",
   "metadata": {},
   "outputs": [
    {
     "data": {
      "image/png": "[encoded data removed]",
      "text/plain": [
       "<Figure size 648x360 with 1 Axes>"
      ]
     },
     "metadata": {
      "needs_background": "light"
     },
     "output_type": "display_data"
    }
   ],
   "source": [
    "fig, ax = plt.subplots()\n",
    "fig.set_size_inches(9, 5)\n",
    "\n",
    "ax.plot(time, audio)\n",
    "#ax.set(xlabel='Time (s)', ylabel='Sound Amplitude')\n",
    "plt.show()"
   ]
  },
  {
   "cell_type": "code",
   "execution_count": null,
   "id": "0768f931-d213-402f-b5f0-7a16006f21db",
   "metadata": {},
   "outputs": [],
   "source": []
  }
 ],
 "metadata": {
  "kernelspec": {
   "display_name": "Python 3",
   "language": "python",
   "name": "python3"
  },
  "language_info": {
   "codemirror_mode": {
    "name": "ipython",
    "version": 3
   },
   "file_extension": ".py",
   "mimetype": "text/x-python",
   "name": "python",
   "nbconvert_exporter": "python",
   "pygments_lexer": "ipython3",
   "version": "3.6.13"
  }
 },
 "nbformat": 4,
 "nbformat_minor": 5
}
